{
 "cells": [
  {
   "cell_type": "code",
   "execution_count": 25,
   "id": "d56d4d98-ad95-4620-bf55-385b05e1bbbd",
   "metadata": {},
   "outputs": [],
   "source": [
    "#Q1.\n",
    "\n",
    "# Multiprocessing allows running multiple processes simultaneously to utilize multiple CPU cores, improving performance for CPU-bound tasks by enabling true parallel execution. \n",
    "\n",
    "# It is helpful as it avoids the Global Interpreter Lock (GIL) limitations, making it effective for parallelizing computationally intensive operations."
   ]
  },
  {
   "cell_type": "code",
   "execution_count": 26,
   "id": "910e82f6-5ed1-484c-8a85-4abf652068ee",
   "metadata": {},
   "outputs": [],
   "source": [
    "#Q2.\n",
    "\n",
    "# Multiprocessing: Runs multiple processes simultaneously, ideal for CPU-bound tasks, isolated memory spaces.\n",
    "# Multithreading: Runs multiple threads within a single process, suitable for I/O-bound tasks, shared memory space, GIL limitations."
   ]
  },
  {
   "cell_type": "code",
   "execution_count": 27,
   "id": "7ce2d12f-899b-4756-957a-82e5c9d8aac3",
   "metadata": {},
   "outputs": [
    {
     "name": "stdout",
     "output_type": "stream",
     "text": [
      "The factorial of 5 is 120\n",
      "The factorial of 7 is 5040\n",
      "The factorial of 10 is 3628800\n",
      "The factorial of 3 is 6\n",
      "The factorial of 6 is 720\n"
     ]
    }
   ],
   "source": [
    "#Q3.\n",
    "\n",
    "import multiprocessing\n",
    "\n",
    "def factorial(n):\n",
    "    result = 1\n",
    "    for i in range(1,n+1):\n",
    "        result = result * i\n",
    "    print(f\"The factorial of {n} is {result}\")\n",
    "    \n",
    "if __name__ == \"__main__\":\n",
    "    numbers = [5, 7, 10, 3, 6]\n",
    "    \n",
    "    for num in numbers:\n",
    "        m = multiprocessing.Process(target=factorial, args=(num,))\n",
    "        m.start()\n",
    "        m.join()"
   ]
  },
  {
   "cell_type": "code",
   "execution_count": 28,
   "id": "f15dea9a-63db-4f75-b89d-7d54eaf1623c",
   "metadata": {},
   "outputs": [],
   "source": [
    "#Q4.\n",
    "\n",
    "# A multiprocessing pool is a mechanism that allows one to execute multiple processes concurrently by creating a pool of worker processes. \n",
    "\n",
    "# It is used to parallalize the execution of a function across multiple input values, which can significantly improve performance for CPU-bound tasks."
   ]
  },
  {
   "cell_type": "code",
   "execution_count": 29,
   "id": "6ab0b4c5-2ae7-4c52-a783-123886357ba5",
   "metadata": {},
   "outputs": [
    {
     "name": "stdout",
     "output_type": "stream",
     "text": [
      "[1, 4, 9, 16, 25]\n"
     ]
    }
   ],
   "source": [
    "#Q5.\n",
    "\n",
    "# To create a pool of worker processes using the 'multiprocessing' module, we can use the 'multiprocessing.Pool' class. \n",
    "\n",
    "# It provides a simple way to parallelize the execution of a function across multiple input values.\n",
    "\n",
    "# A simple example is as follows.\n",
    "\n",
    "import multiprocessing\n",
    "\n",
    "def example_function(x):\n",
    "    return x * x\n",
    "\n",
    "if __name__ == \"__main__\":\n",
    "    # Creating a pool of worker processes with 4 processes\n",
    "    pool = multiprocessing.Pool(processes=4)\n",
    "    \n",
    "    input_values = [1, 2, 3, 4, 5]\n",
    "    \n",
    "    results = pool.map(example_function, input_values)\n",
    "    \n",
    "    pool.close()\n",
    "    pool.join()\n",
    "    print(results)"
   ]
  },
  {
   "cell_type": "code",
   "execution_count": 46,
   "id": "22e08611-1b4b-4b6d-8e39-175f5aef9b92",
   "metadata": {},
   "outputs": [
    {
     "name": "stdout",
     "output_type": "stream",
     "text": [
      "Process ForkPoolWorker-148 prints: 1Process ForkPoolWorker-150 prints: 3Process ForkPoolWorker-151 prints: 4Process ForkPoolWorker-149 prints: 2\n",
      "\n",
      "\n",
      "\n"
     ]
    }
   ],
   "source": [
    "#Q6.\n",
    "\n",
    "import multiprocessing\n",
    "\n",
    "\n",
    "def print_number(number):\n",
    "    print(f\"Process {multiprocessing.current_process().name} prints: {number}\")\n",
    "    \n",
    "if __name__ == \"__main__\":\n",
    "    \n",
    "    pool = multiprocessing.Pool(processes=4)\n",
    "    numbers = [1,2,3,4]\n",
    "    pool.map(print_number, numbers)\n",
    "    pool.close()\n",
    "    pool.join()"
   ]
  },
  {
   "cell_type": "code",
   "execution_count": null,
   "id": "7acd5d67-6f90-4e71-a269-055964f52e80",
   "metadata": {},
   "outputs": [],
   "source": []
  }
 ],
 "metadata": {
  "kernelspec": {
   "display_name": "Python 3 (ipykernel)",
   "language": "python",
   "name": "python3"
  },
  "language_info": {
   "codemirror_mode": {
    "name": "ipython",
    "version": 3
   },
   "file_extension": ".py",
   "mimetype": "text/x-python",
   "name": "python",
   "nbconvert_exporter": "python",
   "pygments_lexer": "ipython3",
   "version": "3.10.8"
  }
 },
 "nbformat": 4,
 "nbformat_minor": 5
}
